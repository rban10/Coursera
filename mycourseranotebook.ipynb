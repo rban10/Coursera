{
    "cells": [
        {
            "cell_type": "markdown",
            "metadata": {
                "collapsed": true
            },
            "source": "# My Jupyter Notebook on IBM Watson Studio"
        },
        {
            "cell_type": "markdown",
            "metadata": {},
            "source": "**Rohan**"
        },
        {
            "cell_type": "markdown",
            "metadata": {},
            "source": "Automobile Engineer"
        },
        {
            "cell_type": "markdown",
            "metadata": {},
            "source": "*I am interested in Data Science because of its power in changing people lives, businesses across the world*"
        },
        {
            "cell_type": "markdown",
            "metadata": {},
            "source": "### The Below code takes a number as input from user and finds its factorial ###"
        },
        {
            "cell_type": "code",
            "execution_count": 4,
            "metadata": {},
            "outputs": [
                {
                    "name": "stdout",
                    "output_type": "stream",
                    "text": "Enter a number:6\n720\n"
                }
            ],
            "source": "def factorialnum(n):\n    prod = 1\n    for i in range(1,n+1):\n        prod = prod*i\n    return prod\na = int(input('Enter a number:'))\nFact = factorialnum(a)\nprint(Fact)"
        },
        {
            "cell_type": "markdown",
            "metadata": {},
            "source": "- Messi\n- Ronaldo\n- Neymar\n\n\n1. Red \n2. Green\n3. Blue\n\n~~Testing Strikethrough on jupyter notebook~~\n\n> Python is a object oriented programming language"
        },
        {
            "cell_type": "code",
            "execution_count": null,
            "metadata": {},
            "outputs": [],
            "source": ""
        }
    ],
    "metadata": {
        "kernelspec": {
            "display_name": "Python 3.9",
            "language": "python",
            "name": "python3"
        },
        "language_info": {
            "codemirror_mode": {
                "name": "ipython",
                "version": 3
            },
            "file_extension": ".py",
            "mimetype": "text/x-python",
            "name": "python",
            "nbconvert_exporter": "python",
            "pygments_lexer": "ipython3",
            "version": "3.9.12"
        }
    },
    "nbformat": 4,
    "nbformat_minor": 1
}